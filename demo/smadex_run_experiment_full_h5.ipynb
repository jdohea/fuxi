{
 "cells": [
  {
   "cell_type": "code",
   "execution_count": null,
   "metadata": {},
   "outputs": [],
   "source": [
    "import sys\n",
    "sys.path.append('../')\n",
    "import os\n",
    "import logging\n",
    "from fuxictr import datasets\n",
    "from datetime import datetime\n",
    "from fuxictr.utils import load_config, set_logger, print_to_json\n",
    "from fuxictr.features import FeatureMap\n",
    "from fuxictr.pytorch.torch_utils import seed_everything\n",
    "from fuxictr.pytorch.dataloaders import H5DataLoader\n",
    "from model_zoo import DeepFM\n",
    "import pickle\n",
    "# ^^suppress output\n",
    "\n",
    "# Load params from config files\n",
    "config_dir = './config/full_h5_config'\n",
    "experiment_id = 'full_h5_initial' # corresponds to h5 input `data/tiny_h5`\n",
    "params = load_config(config_dir, experiment_id)\n",
    "\n",
    "# set up logger and random seed\n",
    "set_logger(params)\n",
    "logging.info(\"Params: \" + print_to_json(params))\n",
    "seed_everything(seed=params['seed'])\n",
    "\n",
    "# Load feature_map from json\n",
    "data_dir = os.path.join(params['data_root'], params['dataset_id'])\n",
    "feature_map_json = os.path.join(data_dir, \"feature_map.json\")\n",
    "feature_map = FeatureMap(params['dataset_id'], data_dir)\n",
    "_ = feature_map.load(feature_map_json, params)\n",
    "_ = logging.info(\"Feature specs: \" + print_to_json(feature_map.features))\n"
   ]
  },
  {
   "cell_type": "code",
   "execution_count": 2,
   "metadata": {},
   "outputs": [
    {
     "name": "stderr",
     "output_type": "stream",
     "text": [
      "2023-05-15 16:39:24,486 P71318 INFO Loading data...\n",
      "2023-05-15 16:39:24,486 P71318 INFO Loading data from h5: ../data/full_h5/smadex_train.h5\n",
      "2023-05-15 16:42:50,151 P71318 INFO Train samples: total/307843, blocks/1\n",
      "2023-05-15 16:42:50,169 P71318 INFO Loading data from h5: ../data/full_h5/smadex_val.h5\n",
      "2023-05-15 16:45:41,474 P71318 INFO Validation samples: total/241205, blocks/1\n",
      "2023-05-15 16:45:41,491 P71318 INFO Loading train and validation data done.\n"
     ]
    }
   ],
   "source": [
    "# Get train and validation data generators from h5\n",
    "train_gen, valid_gen = H5DataLoader(feature_map,\n",
    "                                    stage='train',\n",
    "                                    train_data=params['train_data'],\n",
    "                                    valid_data=params['valid_data'],\n",
    "                                    batch_size=params['batch_size'],\n",
    "                                    shuffle=params['shuffle']).make_iterator()\n"
   ]
  },
  {
   "cell_type": "code",
   "execution_count": 3,
   "metadata": {},
   "outputs": [
    {
     "name": "stdout",
     "output_type": "stream",
     "text": [
      "gpu NOT available. False 1\n"
     ]
    },
    {
     "name": "stderr",
     "output_type": "stream",
     "text": [
      "2023-05-15 16:45:42,565 P71318 INFO Start training: 2406 batches/epoch\n",
      "2023-05-15 16:45:42,565 P71318 INFO ************ Epoch=1 start ************\n"
     ]
    },
    {
     "name": "stdout",
     "output_type": "stream",
     "text": [
      "100%|█████████▉| 2405/2406 [18:44<00:00,  2.20it/s]"
     ]
    },
    {
     "name": "stderr",
     "output_type": "stream",
     "text": [
      "2023-05-15 17:04:28,035 P71318 INFO Train loss: 1.426142\n",
      "2023-05-15 17:04:28,037 P71318 INFO Evaluation @epoch 1 - batch 2406: \n"
     ]
    },
    {
     "name": "stdout",
     "output_type": "stream",
     "text": [
      "100%|██████████| 1885/1885 [01:51<00:00, 16.84it/s]"
     ]
    },
    {
     "name": "stderr",
     "output_type": "stream",
     "text": [
      "2023-05-15 17:06:20,088 P71318 INFO [Metrics] AUC: 0.839460\n",
      "2023-05-15 17:06:20,089 P71318 INFO Save best model: monitor(max)=0.839460\n"
     ]
    },
    {
     "name": "stdout",
     "output_type": "stream",
     "text": [
      "\n",
      "100%|██████████| 2406/2406 [20:37<00:00,  1.94it/s]"
     ]
    },
    {
     "name": "stderr",
     "output_type": "stream",
     "text": [
      "2023-05-15 17:06:20,435 P71318 INFO ************ Epoch=1 end ************\n",
      "2023-05-15 17:06:20,435 P71318 INFO Training finished.\n",
      "2023-05-15 17:06:20,436 P71318 INFO Load best model: /Users/home/PycharmProjects/CTR_repos/FuxiCTR/demo/checkpoints/full_h5/full_h5_initial.model\n"
     ]
    },
    {
     "name": "stdout",
     "output_type": "stream",
     "text": [
      "\n"
     ]
    }
   ],
   "source": [
    "# Model initialization and fitting\n",
    "model = DeepFM(feature_map, gpu=1, **params)\n",
    "start_time = datetime.now()\n",
    "model.fit(train_gen, validation_data=valid_gen, epochs=params['epochs'])\n",
    "train_time = datetime.now() - start_time\n",
    "\n"
   ]
  },
  {
   "cell_type": "code",
   "execution_count": 4,
   "metadata": {},
   "outputs": [
    {
     "name": "stdout",
     "output_type": "stream",
     "text": [
      "100%|██████████| 1885/1885 [01:48<00:00, 17.34it/s]\n"
     ]
    }
   ],
   "source": [
    "\n",
    "start_time = datetime.now()\n",
    "y_pred = model.predict(valid_gen)\n",
    "pred_time = datetime.now() - start_time\n",
    "\n",
    "with open(os.path.join(config_dir, 'model_config.yaml'), 'r') as cfg_file:\n",
    "    model_config = cfg_file.read()"
   ]
  },
  {
   "cell_type": "code",
   "execution_count": 6,
   "metadata": {},
   "outputs": [],
   "source": [
    "import numpy as np\n",
    "pred_time = str(pred_time)\n",
    "train_time = str(train_time)\n",
    "y_true=[]\n",
    "for batch_data in valid_gen:\n",
    "    y_true.extend(model.get_labels(batch_data).data.cpu().numpy().reshape(-1))\n",
    "y_true = np.array(y_true, np.float64)\n",
    "\n",
    "from dump_results import dump_results\n",
    "\n",
    "dump_results(y_true, y_pred,model_config, experiment_id, pred_time, train_time, model, model_type='DeepFM' )\n"
   ]
  }
 ],
 "metadata": {
  "kernelspec": {
   "display_name": "pytorch",
   "language": "python",
   "name": "python3"
  },
  "language_info": {
   "codemirror_mode": {
    "name": "ipython",
    "version": 3
   },
   "file_extension": ".py",
   "mimetype": "text/x-python",
   "name": "python",
   "nbconvert_exporter": "python",
   "pygments_lexer": "ipython3",
   "version": "3.8.16"
  },
  "orig_nbformat": 4
 },
 "nbformat": 4,
 "nbformat_minor": 2
}
